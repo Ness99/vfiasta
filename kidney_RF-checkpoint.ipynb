{
 "cells": [
  {
   "cell_type": "code",
   "execution_count": 1,
   "metadata": {},
   "outputs": [],
   "source": [
    "import numpy as np\n",
    "import pandas as pd\n",
    "import seaborn as sns\n",
    "import csv\n",
    "import matplotlib.pyplot as plt\n",
    "import matplotlib.patches as mpatches\n",
    "from sklearn.model_selection import train_test_split\n",
    "from sklearn.preprocessing import LabelEncoder\n",
    "from sklearn.metrics import confusion_matrix\n",
    "from sklearn.metrics import precision_recall_curve\n",
    "from sklearn.metrics import precision_score\n",
    "from sklearn.metrics import recall_score\n",
    "from sklearn.metrics import classification_report\n",
    "from sklearn.metrics import accuracy_score\n",
    "from sklearn.metrics import f1_score\n",
    "from sklearn.metrics import average_precision_score\n",
    "from inspect import signature\n",
    "from sklearn.ensemble import RandomForestClassifier\n",
    "%matplotlib inline"
   ]
  },
  {
   "cell_type": "code",
   "execution_count": 2,
   "metadata": {
    "scrolled": false
   },
   "outputs": [],
   "source": [
    "data = pd.read_csv('new_model.csv')\n",
    "#data.info()"
   ]
  },
  {
   "cell_type": "code",
   "execution_count": 3,
   "metadata": {},
   "outputs": [],
   "source": [
    "x = data.drop(['Class'],axis=1)\n",
    "y = data['Class']\n",
    "lab_enc=LabelEncoder()\n",
    "y=lab_enc.fit_transform(y)\n",
    "X_train, X_test, Y_train, Y_test = train_test_split(x, y, test_size=0.3, random_state=1)"
   ]
  },
  {
   "cell_type": "code",
   "execution_count": 4,
   "metadata": {},
   "outputs": [
    {
     "data": {
      "text/plain": [
       "RandomForestClassifier()"
      ]
     },
     "execution_count": 4,
     "metadata": {},
     "output_type": "execute_result"
    }
   ],
   "source": [
    "clf=RandomForestClassifier(n_estimators=100)\n",
    "clf.fit(X_train,Y_train)"
   ]
  },
  {
   "cell_type": "code",
   "execution_count": 5,
   "metadata": {},
   "outputs": [],
   "source": [
    "#corr=data.corr()\n",
    "#top_co=corr.index\n",
    "#plt.figure(figsize=(20,20))\n",
    "#g=sns.heatmap(data[top_co].corr(),annot=True,cmap=\"RdYlGn\")"
   ]
  },
  {
   "cell_type": "code",
   "execution_count": 6,
   "metadata": {},
   "outputs": [],
   "source": [
    "#y_predi=clf.predict(X_test)\n",
    "#print(\"Accuracy on training dataset:{:.1f}\".format(clf.score(X_train,Y_train)))\n",
    "#print(\"Accuracy on testing dataset:{:.1f}\".format(accuracy_score(Y_test, y_predi)))"
   ]
  },
  {
   "cell_type": "code",
   "execution_count": 7,
   "metadata": {},
   "outputs": [],
   "source": [
    "#c=pd.DataFrame(confusion_matrix(Y_test, y_predi),columns=['Predicted:0', 'Predicted:1'],index=['Actual:0', 'Actual:1'])\n",
    "#ax= plt.subplot()\n",
    "#sns.heatmap(c, annot=True, ax = ax); \n",
    "#ax.set_xlabel('Predicted labels');ax.set_ylabel('True labels');ax.set_title('Confusion Matrix'); \n",
    "#ax.xaxis.set_ticklabels(['0', '1']); ax.yaxis.set_ticklabels(['0', '1']);"
   ]
  },
  {
   "cell_type": "code",
   "execution_count": 8,
   "metadata": {},
   "outputs": [],
   "source": [
    "#cr=classification_report(Y_test,y_predi)\n",
    "#print(cr)"
   ]
  },
  {
   "cell_type": "code",
   "execution_count": 9,
   "metadata": {
    "scrolled": true
   },
   "outputs": [],
   "source": [
    "#newdf = pd.DataFrame({'Actual': Y_test, 'Predicted':y_predi})"
   ]
  },
  {
   "cell_type": "code",
   "execution_count": 10,
   "metadata": {
    "scrolled": true
   },
   "outputs": [],
   "source": [
    "#df1 = newdf\n",
    "#df1.plot(kind='bar',figsize=(20,6))\n",
    "#plt.grid(which='major', linestyle='--', linewidth='1.5', color='green')\n",
    "#plt.grid(which='minor', linestyle=':', linewidth='0.5', color='black')\n",
    "#plt.show()"
   ]
  },
  {
   "cell_type": "code",
   "execution_count": 11,
   "metadata": {},
   "outputs": [],
   "source": [
    "#rrc=recall_score(Y_test, y_predi)\n",
    "#rps=precision_score(Y_test, y_predi)\n",
    "#rfs=f1_score(Y_test,y_predi)"
   ]
  },
  {
   "cell_type": "code",
   "execution_count": 12,
   "metadata": {
    "scrolled": true
   },
   "outputs": [],
   "source": [
    "#precision, recall, threshold = precision_recall_curve(Y_test, y_predi)\n",
    "#average_precision = average_precision_score(Y_test, y_predi)\n",
    "#step_kwargs = ({'step': 'post'} if 'step' in signature(plt.fill_between).parameters else {})\n",
    "#plt.step(recall, precision, color='r', alpha=0.2, where='post')\n",
    "#plt.fill_between(recall, precision, alpha=0.2, color='r', **step_kwargs)\n",
    "#plt.xlabel('Recall');plt.ylabel('Precision');plt.ylim([0.0, 1.0]);plt.xlim([0.0, 1.0])\n",
    "#plt.title('2-class Precision-Recall curve: AP={0:0.2f}'.format(average_precision))"
   ]
  }
 ],
 "metadata": {
  "kernelspec": {
   "display_name": "Python 3",
   "language": "python",
   "name": "python3"
  },
  "language_info": {
   "codemirror_mode": {
    "name": "ipython",
    "version": 3
   },
   "file_extension": ".py",
   "mimetype": "text/x-python",
   "name": "python",
   "nbconvert_exporter": "python",
   "pygments_lexer": "ipython3",
   "version": "3.8.3"
  }
 },
 "nbformat": 4,
 "nbformat_minor": 4
}
